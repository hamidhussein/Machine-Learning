{
 "cells": [
  {
   "attachments": {},
   "cell_type": "markdown",
   "metadata": {},
   "source": [
    "Example of Python code using logistic regression with comments to explain each step:"
   ]
  },
  {
   "cell_type": "code",
   "execution_count": 15,
   "metadata": {},
   "outputs": [
    {
     "name": "stdout",
     "output_type": "stream",
     "text": [
      "   Weight Fruit Type\n",
      "0     120      Apple\n",
      "1     150      Apple\n",
      "2      90     Orange\n",
      "3     130      Apple\n",
      "4     100     Orange\n",
      "Predicted probability of being an Apple: 0.50\n",
      "Predicted fruit type: Apple\n"
     ]
    }
   ],
   "source": [
    "import pandas as pd\n",
    "from sklearn.linear_model import LogisticRegression\n",
    "\n",
    "# Create the dataset\n",
    "data = {'Weight': [120, 150, 90, 130, 100],\n",
    "        'Fruit Type': ['Apple', 'Apple', 'Orange', 'Apple', 'Orange']}\n",
    "df = pd.DataFrame(data)\n",
    "\n",
    "print(df)\n",
    "# Separate features (X) and target (y)\n",
    "X = df[['Weight']]  # Features (input)\n",
    "y = df['Fruit Type']  # Target (output)\n",
    "\n",
    "\n",
    "# Create and train the logistic regression model\n",
    "model = LogisticRegression()\n",
    "model.fit(X, y)\n",
    "\n",
    "# Predict the fruit type for a new fruit with weight 110 grams\n",
    "new_fruit_weight = [[110]]  # Weight of the new fruit\n",
    "predicted_prob = model.predict_proba(new_fruit_weight)[:, 1]  # Predicted probabilities of being 'Apple'\n",
    "predicted_label = model.predict(new_fruit_weight)  # Predicted fruit type label\n",
    "\n",
    "# Output the results\n",
    "print(f\"Predicted probability of being an Apple: {predicted_prob[0]:.2f}\")\n",
    "print(f\"Predicted fruit type: {predicted_label[0]}\")\n"
   ]
  }
 ],
 "metadata": {
  "kernelspec": {
   "display_name": "base",
   "language": "python",
   "name": "python3"
  },
  "language_info": {
   "codemirror_mode": {
    "name": "ipython",
    "version": 3
   },
   "file_extension": ".py",
   "mimetype": "text/x-python",
   "name": "python",
   "nbconvert_exporter": "python",
   "pygments_lexer": "ipython3",
   "version": "3.8.3"
  },
  "orig_nbformat": 4
 },
 "nbformat": 4,
 "nbformat_minor": 2
}
