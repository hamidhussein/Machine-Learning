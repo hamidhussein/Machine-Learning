{
 "cells": [
  {
   "cell_type": "code",
   "execution_count": 14,
   "metadata": {},
   "outputs": [
    {
     "name": "stdout",
     "output_type": "stream",
     "text": [
      "Matrix 1:\n",
      "[[1]\n",
      " [2]\n",
      " [1]]\n",
      "Matrix 2:\n",
      "[[2 4 9]\n",
      " [8 3 3]\n",
      " [6 9 6]]\n",
      "Result of matrix multiplication:\n",
      "[[24 19 21]]\n"
     ]
    }
   ],
   "source": [
    "import numpy as np\n",
    "\n",
    "def matrix_mult(m1, m2):\n",
    "    result = np.dot(m1.T, m2)\n",
    "    return result\n",
    "\n",
    "# Generate random values for matrix_1\n",
    "matrix_1 = np.random.randint(1, 3, size=(3, 1))\n",
    "print(\"Matrix 1:\")\n",
    "print(matrix_1)\n",
    "\n",
    "# Generate random values for matrix_2\n",
    "matrix_2 = np.random.randint(1, 10, size=(3, 3))\n",
    "print(\"Matrix 2:\")\n",
    "print(matrix_2)\n",
    "\n",
    "# Perform matrix multiplication\n",
    "mult_result = matrix_mult(matrix_1, matrix_2)\n",
    "print(\"Result of matrix multiplication:\")\n",
    "print(mult_result)\n"
   ]
  }
 ],
 "metadata": {
  "kernelspec": {
   "display_name": "base",
   "language": "python",
   "name": "python3"
  },
  "language_info": {
   "codemirror_mode": {
    "name": "ipython",
    "version": 3
   },
   "file_extension": ".py",
   "mimetype": "text/x-python",
   "name": "python",
   "nbconvert_exporter": "python",
   "pygments_lexer": "ipython3",
   "version": "3.8.3"
  },
  "orig_nbformat": 4
 },
 "nbformat": 4,
 "nbformat_minor": 2
}
