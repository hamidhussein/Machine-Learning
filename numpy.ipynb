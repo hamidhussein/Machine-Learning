{
  "nbformat": 4,
  "nbformat_minor": 0,
  "metadata": {
    "colab": {
      "provenance": []
    },
    "kernelspec": {
      "name": "python3",
      "display_name": "Python 3"
    },
    "language_info": {
      "name": "python"
    }
  },
  "cells": [
    {
      "cell_type": "code",
      "source": [
        "import numpy as np\n",
        "a= np.array([2,4,6,8,10])\n",
        "print(a)"
      ],
      "metadata": {
        "colab": {
          "base_uri": "https://localhost:8080/"
        },
        "id": "HvOfl7eB5V-K",
        "outputId": "cca7544a-8261-40ec-ccad-da0af7420226"
      },
      "execution_count": null,
      "outputs": [
        {
          "output_type": "stream",
          "name": "stdout",
          "text": [
            "[ 2  4  6  8 10]\n"
          ]
        }
      ]
    },
    {
      "cell_type": "code",
      "source": [
        "print(type(a))"
      ],
      "metadata": {
        "colab": {
          "base_uri": "https://localhost:8080/"
        },
        "id": "YZVSYTqY5rJw",
        "outputId": "013983b3-0e46-4d03-8bfb-37eac07e8f14"
      },
      "execution_count": null,
      "outputs": [
        {
          "output_type": "stream",
          "name": "stdout",
          "text": [
            "<class 'numpy.ndarray'>\n"
          ]
        }
      ]
    },
    {
      "cell_type": "code",
      "source": [
        "zeros_arr = np.zeros((3, 4))\n",
        "print(zeros_arr)"
      ],
      "metadata": {
        "colab": {
          "base_uri": "https://localhost:8080/"
        },
        "id": "i1O-21pH507F",
        "outputId": "b1a56211-a2e9-45ee-9eb3-566bee4bf121"
      },
      "execution_count": null,
      "outputs": [
        {
          "output_type": "stream",
          "name": "stdout",
          "text": [
            "[[0. 0. 0. 0.]\n",
            " [0. 0. 0. 0.]\n",
            " [0. 0. 0. 0.]]\n"
          ]
        }
      ]
    },
    {
      "cell_type": "code",
      "source": [
        "ones_arr = np.ones((2, 2))\n",
        "print(ones_arr)"
      ],
      "metadata": {
        "colab": {
          "base_uri": "https://localhost:8080/"
        },
        "id": "w9d-79Gs7gtO",
        "outputId": "faab0a16-8306-440f-fe8c-b216dd9b416f"
      },
      "execution_count": null,
      "outputs": [
        {
          "output_type": "stream",
          "name": "stdout",
          "text": [
            "[[1. 1.]\n",
            " [1. 1.]]\n"
          ]
        }
      ]
    },
    {
      "cell_type": "code",
      "source": [
        "range_arr = np.arange(0, 10, 2)\n",
        "print(range_arr)"
      ],
      "metadata": {
        "colab": {
          "base_uri": "https://localhost:8080/"
        },
        "id": "UEbuF93x7z49",
        "outputId": "c0453604-2201-4a0c-82ea-9907c42a0760"
      },
      "execution_count": null,
      "outputs": [
        {
          "output_type": "stream",
          "name": "stdout",
          "text": [
            "[0 2 4 6 8]\n"
          ]
        }
      ]
    },
    {
      "cell_type": "code",
      "source": [
        "linspace_arr = np.linspace(0, 1, 5)\n",
        "print(linspace_arr)"
      ],
      "metadata": {
        "colab": {
          "base_uri": "https://localhost:8080/"
        },
        "id": "CgZvB-4a8D0U",
        "outputId": "30b23bb1-24f8-4fed-9366-1c6d5937cfba"
      },
      "execution_count": null,
      "outputs": [
        {
          "output_type": "stream",
          "name": "stdout",
          "text": [
            "[0.   0.25 0.5  0.75 1.  ]\n"
          ]
        }
      ]
    },
    {
      "cell_type": "code",
      "source": [
        "import numpy as np\n",
        "arr=np.arange(0,100,50)\n",
        "reshaped_arr = np.reshape(arr, (2, 1))\n",
        "print(reshaped_arr)"
      ],
      "metadata": {
        "colab": {
          "base_uri": "https://localhost:8080/"
        },
        "id": "F41Zui079CZh",
        "outputId": "90de0a4d-ae43-4ffc-b8e4-333922352cde"
      },
      "execution_count": null,
      "outputs": [
        {
          "output_type": "stream",
          "name": "stdout",
          "text": [
            "[[ 0]\n",
            " [50]]\n"
          ]
        }
      ]
    },
    {
      "cell_type": "code",
      "source": [
        "import numpy as np\n",
        "\n",
        "arr = np.array([1, 2, 3, 4, 5, 6])\n",
        "reshaped_arr = np.reshape(arr, (6, 1))\n",
        "print(reshaped_arr)"
      ],
      "metadata": {
        "colab": {
          "base_uri": "https://localhost:8080/"
        },
        "id": "GPPesOeIYHek",
        "outputId": "dee77fda-ef25-4956-acb4-66c66154dd0f"
      },
      "execution_count": null,
      "outputs": [
        {
          "output_type": "stream",
          "name": "stdout",
          "text": [
            "[[1]\n",
            " [2]\n",
            " [3]\n",
            " [4]\n",
            " [5]\n",
            " [6]]\n"
          ]
        }
      ]
    },
    {
      "cell_type": "code",
      "source": [
        "import numpy as np\n",
        "md_arr=np.arange(1,15,1)\n",
        "print(md_arr)\n",
        "new_arr=np.reshape(md_arr,(7,2))\n",
        "print(new_arr)"
      ],
      "metadata": {
        "colab": {
          "base_uri": "https://localhost:8080/"
        },
        "id": "Jd2BtuHfYU6p",
        "outputId": "dc125f6e-f6e4-4c6f-eefd-b7cfd7f5b807"
      },
      "execution_count": null,
      "outputs": [
        {
          "output_type": "stream",
          "name": "stdout",
          "text": [
            "[ 1  2  3  4  5  6  7  8  9 10 11 12 13 14]\n",
            "[[ 1  2]\n",
            " [ 3  4]\n",
            " [ 5  6]\n",
            " [ 7  8]\n",
            " [ 9 10]\n",
            " [11 12]\n",
            " [13 14]]\n"
          ]
        }
      ]
    },
    {
      "cell_type": "code",
      "source": [],
      "metadata": {
        "id": "9Fg2LW2D1680"
      },
      "execution_count": null,
      "outputs": []
    },
    {
      "cell_type": "code",
      "source": [
        "arr = np.array([[1, 2, 3,3],\n",
        "                [4, 5, 6,4],\n",
        "                [7, 8, 4,7]])\n",
        "print(arr)\n",
        "print(arr[0,1]) #print ist elemet of 2nd column\n",
        "print(arr[0][1])#same as above\n",
        "print(arr.shape)#Print dimentions of array\n",
        "print(arr.size)#print total elements of arrays\n",
        "rows=len(arr)\n",
        "cols=len(arr[1])\n",
        "print(rows ,cols)"
      ],
      "metadata": {
        "colab": {
          "base_uri": "https://localhost:8080/"
        },
        "id": "fVo9kBaB9oHy",
        "outputId": "84265b54-9f86-4e72-9fa5-6380fcb5e27c"
      },
      "execution_count": null,
      "outputs": [
        {
          "output_type": "stream",
          "name": "stdout",
          "text": [
            "[[1 2 3 3]\n",
            " [4 5 6 4]\n",
            " [7 8 4 7]]\n",
            "2\n",
            "2\n",
            "(3, 4)\n",
            "12\n",
            "3 4\n"
          ]
        }
      ]
    },
    {
      "cell_type": "code",
      "source": [
        "import numpy as np\n",
        "arr_ =np.arange(1,12,2)\n",
        "print(arr_)\n",
        "\n",
        "reshaped_arr = np.reshape(arr_, (2, 3))\n",
        "print(\"Reshaped 2-D array:\")\n",
        "print(reshaped_arr)\n",
        "b=np.ones((3,5))\n",
        "print(b)\n"
      ],
      "metadata": {
        "colab": {
          "base_uri": "https://localhost:8080/"
        },
        "id": "mlLC5o89-aNl",
        "outputId": "1e188960-1b59-4ebe-e125-4af91427bc9e"
      },
      "execution_count": null,
      "outputs": [
        {
          "output_type": "stream",
          "name": "stdout",
          "text": [
            "[ 1  3  5  7  9 11]\n",
            "Reshaped 2-D array:\n",
            "[[ 1  3  5]\n",
            " [ 7  9 11]]\n",
            "[[1. 1. 1. 1. 1.]\n",
            " [1. 1. 1. 1. 1.]\n",
            " [1. 1. 1. 1. 1.]]\n"
          ]
        }
      ]
    },
    {
      "cell_type": "code",
      "source": [
        "import numpy as np\n",
        "\n",
        "constant_arr = np.full((2, 3), ['a', 'b', 'c'])\n",
        "print(constant_arr)\n"
      ],
      "metadata": {
        "colab": {
          "base_uri": "https://localhost:8080/"
        },
        "id": "IS_7tGHOC1LJ",
        "outputId": "fd4d8eee-94af-4e94-c40d-3570563eab90"
      },
      "execution_count": null,
      "outputs": [
        {
          "output_type": "stream",
          "name": "stdout",
          "text": [
            "[['a' 'b' 'c']\n",
            " ['a' 'b' 'c']]\n"
          ]
        }
      ]
    },
    {
      "cell_type": "code",
      "source": [
        "import numpy as np\n",
        "\n",
        "constant_arr = np.full((2, 2), ['a'])\n",
        "print(constant_arr)\n"
      ],
      "metadata": {
        "colab": {
          "base_uri": "https://localhost:8080/"
        },
        "id": "3F6Dx5p3DeIn",
        "outputId": "1a7b88b7-e1ec-4f29-9267-78e2b522122b"
      },
      "execution_count": null,
      "outputs": [
        {
          "output_type": "stream",
          "name": "stdout",
          "text": [
            "[['a' 'a']\n",
            " ['a' 'a']]\n"
          ]
        }
      ]
    },
    {
      "cell_type": "code",
      "source": [
        "import numpy as np\n",
        "\n",
        "constant_arr = np.arange(1,25,2)\n",
        "print(constant_arr)\n",
        "x=np.reshape(constant_arr,[3,4])\n",
        "print(x)\n",
        "\n",
        "arr_index= (x>2)\n",
        "print(arr_index)\n"
      ],
      "metadata": {
        "colab": {
          "base_uri": "https://localhost:8080/"
        },
        "id": "lSQfauR1DnPg",
        "outputId": "46925f17-55ea-4764-da11-e4fd5a701736"
      },
      "execution_count": null,
      "outputs": [
        {
          "output_type": "stream",
          "name": "stdout",
          "text": [
            "[ 1  3  5  7  9 11 13 15 17 19 21 23]\n",
            "[[ 1  3  5  7]\n",
            " [ 9 11 13 15]\n",
            " [17 19 21 23]]\n",
            "[[False  True  True  True]\n",
            " [ True  True  True  True]\n",
            " [ True  True  True  True]]\n"
          ]
        }
      ]
    },
    {
      "cell_type": "code",
      "source": [
        "import numpy as np\n",
        "\n",
        "# Define two vectors\n",
        "vector1 = np.array([1, 2, 3])\n",
        "vector2 = np.array([4, 5, 6])\n",
        "\n",
        "# Calculate the dot product\n",
        "dot_product = np.dot(vector1, vector2)\n",
        "print(\"Dot Product:\", dot_product)\n",
        "\n",
        "dot_sum = np.sum(vector1)\n",
        "print(\"Sum:\", dot_sum)\n",
        "\n",
        "\n"
      ],
      "metadata": {
        "colab": {
          "base_uri": "https://localhost:8080/"
        },
        "id": "wL2BsA0NBhi5",
        "outputId": "856e1e13-16be-44e1-da26-684c4b82340e"
      },
      "execution_count": null,
      "outputs": [
        {
          "output_type": "stream",
          "name": "stdout",
          "text": [
            "Dot Product: 32\n",
            "Dot Product: 6\n"
          ]
        }
      ]
    },
    {
      "cell_type": "code",
      "source": [
        "import numpy as np\n",
        "\n",
        "# Create a 2-dimensional array\n",
        "arr = np.array([[1, 2, 3], [4, 5, 6]])\n",
        "\n",
        "# Sum the elements along axis 0 (column-wise sum)\n",
        "sum_axis0 = np.sum(arr, axis=0)\n",
        "print(\"Sum along axis 0:\")\n",
        "print(sum_axis0)\n",
        "# sum_axis0 = [1+4, 2+5, 3+6] = [5, 7, 9]\n",
        "\n",
        "# Sum the elements along axis 1 (row-wise sum)\n",
        "sum_axis1 = np.sum(arr, axis=1)\n",
        "print(\"Sum along axis 1:\")\n",
        "print(sum_axis1)\n",
        "# sum_axis0 = [1+2+3, 4+5+6] = [6, 15]\n",
        "\n",
        "# Sum all elements in the array\n",
        "sum_all = np.sum(arr)\n",
        "print(\"Sum of all elements:\")\n",
        "print(sum_all)\n"
      ],
      "metadata": {
        "colab": {
          "base_uri": "https://localhost:8080/"
        },
        "id": "qOyqNHaZIuQJ",
        "outputId": "9c6ea383-27b3-4c42-e821-bed46fa5090f"
      },
      "execution_count": null,
      "outputs": [
        {
          "output_type": "stream",
          "name": "stdout",
          "text": [
            "Sum along axis 0:\n",
            "[5 7 9]\n",
            "Sum along axis 1:\n",
            "[ 6 15]\n",
            "Sum of all elements:\n",
            "21\n"
          ]
        }
      ]
    },
    {
      "cell_type": "code",
      "source": [
        "import numpy as np\n",
        "\n",
        "# Define two vectors\n",
        "vector1 = np.array([1, 2, 3])\n",
        "vector2 = np.array([4, 5, 6])\n",
        "\n",
        "# Add the vectors element-wise\n",
        "sum_vector = np.add(vector1, vector2)\n",
        "print(\"Sum of vectors:\", sum_vector)\n",
        "\n",
        "sum_all = np.sum(vector1)\n",
        "print(\"Sum of all elements:\")\n",
        "print(sum_all)\n"
      ],
      "metadata": {
        "colab": {
          "base_uri": "https://localhost:8080/"
        },
        "id": "8aHmf-npKFZN",
        "outputId": "55f04f9f-fe3f-40d6-a72d-f190ebd255c0"
      },
      "execution_count": null,
      "outputs": [
        {
          "output_type": "stream",
          "name": "stdout",
          "text": [
            "Sum of vectors: [5 7 9]\n",
            "Sum of all elements:\n",
            "6\n"
          ]
        }
      ]
    },
    {
      "cell_type": "code",
      "source": [
        "import pandas as pd"
      ],
      "metadata": {
        "id": "uepEd2rsKkG_"
      },
      "execution_count": null,
      "outputs": []
    }
  ]
}