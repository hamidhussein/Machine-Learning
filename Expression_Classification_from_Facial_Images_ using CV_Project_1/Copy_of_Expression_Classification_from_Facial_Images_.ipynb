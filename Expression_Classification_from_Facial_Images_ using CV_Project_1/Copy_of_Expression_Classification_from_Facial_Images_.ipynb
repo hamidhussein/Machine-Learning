{
  "cells": [
    {
      "cell_type": "code",
      "execution_count": null,
      "metadata": {
        "colab": {
          "base_uri": "https://localhost:8080/"
        },
        "id": "2V9ju20bs34Y",
        "outputId": "d165b4fd-5793-4801-e3af-b7bd2b104471"
      },
      "outputs": [
        {
          "name": "stdout",
          "output_type": "stream",
          "text": [
            "Mounted at /content/drive\n"
          ]
        }
      ],
      "source": [
        "from google.colab import drive\n",
        "drive.mount('/content/drive')"
      ]
    },
    {
      "cell_type": "markdown",
      "metadata": {},
      "source": [
        "Introduction\n",
        "The goal of this project is to perform expression classification from facial images. The project involves preprocessing the images, building a deep learning model for classification, and evaluating its performance. The project is implemented using Python and various libraries including Pandas, NumPy, PIL, Scikit-Learn, and Keras.\n"
      ]
    },
    {
      "cell_type": "code",
      "execution_count": null,
      "metadata": {
        "id": "SMWGzBJJC46p"
      },
      "outputs": [],
      "source": [
        "import os\n",
        "import numpy as np\n",
        "import pandas as pd\n",
        "from PIL import Image\n",
        "\n",
        "# Load label information from a CSV file\n",
        "label_file_path = \"/content/drive/MyDrive/Colab/Machine-Learinig-Projects/Expression-Classification-from-Facial-Images-Project_1 /label.lst\"\n",
        "column_names = ['image_name', 'face_id', 'face_box_top', 'face_box_left', 'face_box_right', 'face_box_bottom', 'face_box_confidence', 'expression_label']\n",
        "df_labels = pd.read_csv(label_file_path, sep=' ', names=column_names)\n",
        "\n",
        "# Paths for source images and destination directory for preprocessed images\n",
        "image_folder_path = \"/content/drive/MyDrive/Colab/origin\"\n",
        "dest_dir = \"/content/drive/MyDrive/Colab/Machine-Learinig-Projects/Expression-Classification-from-Facial-Images-Project_1/preprocessed_images\"\n",
        "\n",
        "# Create the destination directory if it doesn't exist\n",
        "os.makedirs(dest_dir, exist_ok=True)\n",
        "\n",
        "# Load and preprocess images\n",
        "preprocessed_labels = []\n",
        "\n",
        "# Mapping of expression labels to their corresponding numerical values\n",
        "expression_label = {\n",
        "    0: \"angry\",\n",
        "    1: \"disgust\",\n",
        "    2: \"fear\",\n",
        "    3: \"happy\",\n",
        "    4: \"sad\",\n",
        "    5: \"surprise\",\n",
        "    6: \"neutral\"\n",
        "}\n",
        "num_images_to_preprocess = 106962\n",
        "img = 0\n",
        "count_angry, count_disgust, count_fear, count_happy, count_sad, count_surprise, count_neutral = 0, 0, 0, 0, 0, 0, 0\n",
        "\n",
        "for _, row in df_labels.iloc[:num_images_to_preprocess].iterrows():\n",
        "    image_name = row['image_name']\n",
        "    image_path = os.path.join(image_folder_path, image_name)\n",
        "\n",
        "    if not os.path.exists(image_path):\n",
        "        continue\n",
        "\n",
        "    x1, y1, x2, y2 = row['face_box_left'], row['face_box_top'], row['face_box_right'], row['face_box_bottom']\n",
        "    confidence = row['face_box_confidence']\n",
        "    label = row['expression_label']\n",
        "\n",
        "    # Set your threshold value here\n",
        "    your_threshold_value_here = 70.0\n",
        "\n",
        "    # Check if the face box confidence is above the threshold\n",
        "    if confidence >= your_threshold_value_here:\n",
        "        image = Image.open(image_path)\n",
        "\n",
        "        if image is None:\n",
        "            continue\n",
        "\n",
        "        face_box = (x1, y1, x2, y2)\n",
        "        cropped_image = image.crop(face_box)\n",
        "\n",
        "        if cropped_image is None:\n",
        "            continue\n",
        "\n",
        "        resized_image = cropped_image.resize((224, 224))\n",
        "        grayscale_image = resized_image.convert(\"L\")\n",
        "        normalized_image = np.array(grayscale_image) / 255.0\n",
        "\n",
        "        # Save preprocessed image with original name\n",
        "        preprocessed_path = os.path.join(dest_dir, image_name)\n",
        "        grayscale_image.save(preprocessed_path)\n",
        "\n",
        "        preprocessed_labels.append(label)\n",
        "        img += 1\n",
        "        print(f\"Processed image {img} - Confidence: {confidence}\")\n",
        "\n",
        "        # Update counts based on expression label\n",
        "        if label == 0:\n",
        "            count_angry += 1\n",
        "        elif label == 1:\n",
        "            count_disgust += 1\n",
        "        elif label == 2:\n",
        "            count_fear += 1\n",
        "        elif label == 3:\n",
        "            count_happy += 1\n",
        "        elif label == 4:\n",
        "            count_sad += 1\n",
        "        elif label == 5:\n",
        "            count_surprise += 1\n",
        "        elif label == 6:\n",
        "            count_neutral += 1\n",
        "        else:\n",
        "            print(\"expression_label missing for\", image_name)\n",
        "\n",
        "# Print counts for each expression label\n",
        "print(\n",
        "    \"Angry:\", count_angry,\n",
        "    \"Disgust:\", count_disgust,\n",
        "    \"Fear:\", count_fear,\n",
        "    \"Happy:\", count_happy,\n",
        "    \"Sad:\", count_sad,\n",
        "    \"Surprise:\", count_surprise,\n",
        "    \"Neutral:\", count_neutral\n",
        ")\n",
        "\n",
        "print(f\"Preprocessed and saved {img} images and labels in {dest_dir}\")\n"
      ]
    },
    {
      "cell_type": "markdown",
      "metadata": {},
      "source": [
        "Data Splitting and Label Encoding\n",
        "After preprocessing the images, the dataset is split into training, validation, and test sets. The expressions are encoded using the LabelEncoder to convert string labels into numerical values. The data splitting steps are as follows:\n",
        "1.\tLoad the preprocessed image filenames from the destination directory.\n",
        "2.\tFilter the label DataFrame to include only the image filenames present in the preprocessed images directory.\n",
        "3.\tUse LabelEncoder to convert the expression labels into numerical values.\n",
        "4.\tSplit the data into training, validation, and test sets using the train_test_split function from Scikit-Learn.\n"
      ]
    },
    {
      "cell_type": "code",
      "execution_count": null,
      "metadata": {
        "colab": {
          "base_uri": "https://localhost:8080/"
        },
        "id": "uayKyrZdT_La",
        "outputId": "cfdaca30-6735-4ae1-aa57-9a465a7a5031"
      },
      "outputs": [
        {
          "name": "stdout",
          "output_type": "stream",
          "text": [
            "Found 15244 validated image filenames.\n",
            "Found 3811 validated image filenames.\n",
            "Found 2118 validated image filenames.\n"
          ]
        }
      ],
      "source": [
        "import os\n",
        "import numpy as np\n",
        "import pandas as pd\n",
        "from sklearn.model_selection import train_test_split\n",
        "from keras.preprocessing.image import ImageDataGenerator\n",
        "from sklearn.preprocessing import LabelEncoder\n",
        "from PIL import Image\n",
        "\n",
        "# Load label information from a CSV file\n",
        "label_file_path = \"/content/drive/MyDrive/Colab/Machine-Learinig-Projects/Expression-Classification-from-Facial-Images-Project_1 /label.lst\"\n",
        "column_names = ['image_name', 'face_id', 'face_box_top', 'face_box_left', 'face_box_right', 'face_box_bottom', 'face_box_confidence', 'expression_label']\n",
        "df_labels = pd.read_csv(label_file_path, sep=' ', names=column_names)\n",
        "\n",
        "# Paths for preprocessed images\n",
        "dest_dir = \"/content/drive/MyDrive/Colab/Machine-Learinig-Projects/Expression-Classification-from-Facial-Images-Project_1/preprocessed_images\"\n",
        "\n",
        "# Get the list of image filenames in the preprocessed images directory\n",
        "preprocessed_image_filenames = os.listdir(dest_dir)\n",
        "\n",
        "# Filter the DataFrame to include only image filenames present in the preprocessed images directory\n",
        "df_filtered = df_labels[df_labels['image_name'].isin(preprocessed_image_filenames)].copy()\n",
        "\n",
        "# Convert string labels to numerical labels using LabelEncoder\n",
        "label_encoder = LabelEncoder()\n",
        "df_filtered['expression_label_encoded'] = label_encoder.fit_transform(df_filtered['expression_label'])\n",
        "\n",
        "# Split data into train, validation, and test sets\n",
        "train_data, test_data = train_test_split(df_filtered, test_size=0.1, random_state=42)\n",
        "train_data, val_data = train_test_split(train_data, test_size=0.2, random_state=42)\n",
        "\n",
        "# Set up data generators\n",
        "batch_size = 32\n",
        "image_size = (224, 224)\n",
        "train_generator = ImageDataGenerator(rescale=1./255).flow_from_dataframe(\n",
        "    train_data, directory=dest_dir, x_col='image_name', y_col='expression_label_encoded',\n",
        "    target_size=image_size, batch_size=batch_size, color_mode='grayscale', class_mode='raw'\n",
        ")\n",
        "val_generator = ImageDataGenerator(rescale=1./255).flow_from_dataframe(\n",
        "    val_data, directory=dest_dir, x_col='image_name', y_col='expression_label_encoded',\n",
        "    target_size=image_size, batch_size=batch_size, color_mode='grayscale', class_mode='raw'\n",
        ")\n",
        "test_generator = ImageDataGenerator(rescale=1./255).flow_from_dataframe(\n",
        "    test_data, directory=dest_dir, x_col='image_name', y_col='expression_label_encoded',\n",
        "    target_size=image_size, batch_size=batch_size, color_mode='grayscale', class_mode='raw', shuffle=False\n",
        ")\n"
      ]
    },
    {
      "cell_type": "markdown",
      "metadata": {},
      "source": [
        "Model Architecture\n",
        "The deep learning model is built using the Keras library. The architecture consists of convolutional layers with max-pooling, followed by fully connected layers. The model architecture is as follows:\n"
      ]
    },
    {
      "cell_type": "code",
      "execution_count": null,
      "metadata": {
        "colab": {
          "base_uri": "https://localhost:8080/"
        },
        "id": "JlB4KEHX_8Jx",
        "outputId": "11d11d74-7868-4c6a-f553-8e466ff84bd5"
      },
      "outputs": [
        {
          "name": "stdout",
          "output_type": "stream",
          "text": [
            "Epoch 1/10\n",
            "476/476 [==============================] - 2214s 5s/step - loss: 1.2239 - accuracy: 0.5555 - val_loss: 1.1023 - val_accuracy: 0.6184\n",
            "Epoch 2/10\n",
            "476/476 [==============================] - 41s 86ms/step - loss: 1.0835 - accuracy: 0.6070 - val_loss: 1.0343 - val_accuracy: 0.6439\n",
            "Epoch 3/10\n",
            "476/476 [==============================] - 40s 84ms/step - loss: 1.0067 - accuracy: 0.6467 - val_loss: 0.9959 - val_accuracy: 0.6541\n",
            "Epoch 4/10\n",
            "476/476 [==============================] - 43s 90ms/step - loss: 0.9286 - accuracy: 0.6761 - val_loss: 0.9669 - val_accuracy: 0.6725\n",
            "Epoch 5/10\n",
            "476/476 [==============================] - 44s 91ms/step - loss: 0.8467 - accuracy: 0.6958 - val_loss: 0.9661 - val_accuracy: 0.6770\n",
            "Epoch 6/10\n",
            "476/476 [==============================] - 44s 92ms/step - loss: 0.7749 - accuracy: 0.7242 - val_loss: 1.0091 - val_accuracy: 0.6728\n",
            "Epoch 7/10\n",
            "476/476 [==============================] - 43s 90ms/step - loss: 0.7038 - accuracy: 0.7481 - val_loss: 1.0743 - val_accuracy: 0.6678\n",
            "Epoch 8/10\n",
            "476/476 [==============================] - 42s 89ms/step - loss: 0.6352 - accuracy: 0.7651 - val_loss: 1.1084 - val_accuracy: 0.6754\n",
            "Epoch 9/10\n",
            "476/476 [==============================] - 39s 82ms/step - loss: 0.5837 - accuracy: 0.7832 - val_loss: 1.1311 - val_accuracy: 0.6741\n",
            "Epoch 10/10\n",
            "476/476 [==============================] - 44s 92ms/step - loss: 0.5369 - accuracy: 0.8007 - val_loss: 1.2143 - val_accuracy: 0.6712\n",
            "66/66 [==============================] - 171s 3s/step - loss: 1.1936 - accuracy: 0.6700\n",
            "Test accuracy: 0.669981062412262\n"
          ]
        }
      ],
      "source": [
        "from keras.models import Sequential\n",
        "from keras.layers import Conv2D, MaxPooling2D, Flatten, Dense, Dropout\n",
        "\n",
        "# Create a Sequential model\n",
        "model = Sequential()\n",
        "\n",
        "# Add Conv2D layers with MaxPooling\n",
        "model.add(Conv2D(32, (3, 3), activation='relu', input_shape=(224, 224, 1)))\n",
        "model.add(MaxPooling2D((2, 2)))\n",
        "model.add(Conv2D(64, (3, 3), activation='relu'))\n",
        "model.add(MaxPooling2D((2, 2)))\n",
        "model.add(Conv2D(128, (3, 3), activation='relu'))\n",
        "model.add(MaxPooling2D((2, 2)))\n",
        "\n",
        "# Flatten the output and add Dense layers\n",
        "model.add(Flatten())\n",
        "model.add(Dense(128, activation='relu'))\n",
        "model.add(Dropout(0.5))\n",
        "model.add(Dense(len(label_encoder.classes_), activation='softmax'))  # Use the number of classes as output units\n",
        "\n",
        "# Compile the model\n",
        "model.compile(optimizer='adam', loss='sparse_categorical_crossentropy', metrics=['accuracy'])\n",
        "\n",
        "# Train the model\n",
        "history = model.fit(train_generator, steps_per_epoch=len(train_data) // batch_size,\n",
        "                    validation_data=val_generator, validation_steps=len(val_data) // batch_size,\n",
        "                    epochs=10)\n",
        "\n",
        "# Evaluate on test set\n",
        "test_loss, test_acc = model.evaluate(test_generator, steps=len(test_data) // batch_size)\n",
        "print('Test accuracy:', test_acc)\n"
      ]
    },
    {
      "cell_type": "code",
      "execution_count": null,
      "metadata": {
        "id": "Gt8O-tN9SgG5"
      },
      "outputs": [],
      "source": [
        "Model Compilation and Training\n",
        "The model is compiled with the Adam optimizer and sparse categorical cross-entropy loss function. It is trained using the training data and validated using the validation data. The training process includes multiple epochs with batch processing. The training steps are as follows:\n",
        "1.\tCompile the model with the Adam optimizer and sparse categorical cross-entropy loss.\n",
        "2.\tTrain the model using the train_generator and validate it using the val_generator.\n",
        "3.\tMonitor the training and validation accuracy during each epoch.\n",
        "\n"
      ]
    },
    {
      "cell_type": "markdown",
      "metadata": {},
      "source": [
        "Model Evaluation\n",
        "The trained model is evaluated on the test set to assess its performance. The test accuracy is computed and printed. The evaluation steps are as follows:\n",
        "1.\tEvaluate the model on the test_generator.\n",
        "2.\tCalculate the test loss and test accuracy.\n",
        "3.\tPrint the test accuracy.\n"
      ]
    },
    {
      "cell_type": "code",
      "execution_count": null,
      "metadata": {},
      "outputs": [],
      "source": [
        "Performance Metrics\n",
        "After evaluating the trained expression classification model, the following performance metrics were obtained:\n",
        "•\tAccuracy: 0.6704\n",
        "•\tPrecision: 0.6370\n",
        "•\tRecall: 0.6704\n",
        "•\tF1-Score: 0.6434"
      ]
    },
    {
      "cell_type": "code",
      "execution_count": null,
      "metadata": {
        "colab": {
          "base_uri": "https://localhost:8080/",
          "height": 563
        },
        "id": "CGtXs6CzW-tS",
        "outputId": "3c1d7270-43c9-4849-e1d0-e287b73f7967"
      },
      "outputs": [
        {
          "name": "stdout",
          "output_type": "stream",
          "text": [
            "67/67 [==============================] - 4s 60ms/step\n",
            "Accuracy: 0.6704438149197356\n",
            "Precision: 0.6369658467930854\n",
            "Recall: 0.6704438149197356\n",
            "F1-Score: 0.643401995795106\n"
          ]
        },
        {
          "data": {
            "image/png": "[encoded data removed]",
            "text/plain": [
              "<Figure size 640x480 with 2 Axes>"
            ]
          },
          "metadata": {},
          "output_type": "display_data"
        }
      ],
      "source": [
        "import matplotlib.pyplot as plt\n",
        "from sklearn.metrics import classification_report, confusion_matrix, ConfusionMatrixDisplay\n",
        "\n",
        "# Calculate predictions\n",
        "predictions = model.predict(test_generator, steps=len(test_generator))\n",
        "predicted_labels = np.argmax(predictions, axis=1)\n",
        "\n",
        "# Get true labels for each batch in test_generator\n",
        "true_labels = []\n",
        "for _ in range(len(test_generator)):\n",
        "    _, batch_labels = next(test_generator)\n",
        "    true_labels.extend(batch_labels)\n",
        "true_labels = np.array(true_labels)\n",
        "\n",
        "# Calculate metrics\n",
        "accuracy = np.sum(predicted_labels == true_labels) / len(true_labels)\n",
        "report = classification_report(true_labels, predicted_labels, target_names=label_encoder.classes_, output_dict=True)\n",
        "precision = report['weighted avg']['precision']\n",
        "recall = report['weighted avg']['recall']\n",
        "f1 = report['weighted avg']['f1-score']\n",
        "\n",
        "print(\"Accuracy:\", accuracy)\n",
        "print(\"Precision:\", precision)\n",
        "print(\"Recall:\", recall)\n",
        "print(\"F1-Score:\", f1)\n",
        "\n",
        "# Compute confusion matrix\n",
        "cm = confusion_matrix(true_labels, predicted_labels, normalize='true')\n",
        "\n",
        "# Define class labels for better visualization (replace with your actual class labels)\n",
        "class_labels = label_encoder.classes_\n",
        "\n",
        "# Plot confusion matrix\n",
        "disp = ConfusionMatrixDisplay(confusion_matrix=cm, display_labels=class_labels)\n",
        "disp.plot(cmap=plt.cm.Blues, values_format='.2f')\n",
        "plt.title(\"Normalized Confusion Matrix\")\n",
        "plt.show()\n"
      ]
    },
    {
      "cell_type": "markdown",
      "metadata": {
        "id": "7UrmyMkwOi-M"
      },
      "source": [
        "new"
      ]
    }
  ],
  "metadata": {
    "accelerator": "GPU",
    "colab": {
      "gpuType": "T4",
      "provenance": []
    },
    "kernelspec": {
      "display_name": "Python 3",
      "name": "python3"
    },
    "language_info": {
      "name": "python"
    }
  },
  "nbformat": 4,
  "nbformat_minor": 0
}
